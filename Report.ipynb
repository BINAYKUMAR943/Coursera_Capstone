{
 "cells": [
  {
   "cell_type": "markdown",
   "metadata": {},
   "source": [
    "# Report"
   ]
  },
  {
   "cell_type": "markdown",
   "metadata": {},
   "source": [
    "**Introduction**"
   ]
  },
  {
   "cell_type": "markdown",
   "metadata": {},
   "source": [
    "The restaurant industry is one of the most competitive sectors in the world. Not only we as species need to eat and drink to survive but also communal dinning is an experince that we have been cherishing for centuries. And we love to dine out when we can, there is a great deal of demand for restaurant in village, town and cities across the planet. With this great demand there is a great competition also. Studies from \"The Perry Group\" and \"The Restaurant Brokers\" suggest that 90% of restaurants that are independently owned close within one year of opening. Moreover, 70% of restaurants that manage to survive for 12 months close their doors within the next three to five years. So question is how to excel in such competitive environment? Let see the possible solution."
   ]
  },
  {
   "cell_type": "markdown",
   "metadata": {},
   "source": [
    "**Possible Solution**"
   ]
  },
  {
   "cell_type": "markdown",
   "metadata": {},
   "source": [
    "Why about 90 percent of restaurant closes within a year.To understand the solution we first need to understand the root cause of the problem. The possible answer are many like bad location, lack of ambience, menu, bad pricing, bad service etc.Out of these reasons first problem is location as before opening a restaurant this is the thing you decide. The place where you want to open restaurant and after that other factors comes in. So part of solution in which I am concentrating is location selection. I will be analyzing all the  restaurant of a city( for my reference it is a borough of Newyork) and will be clustering them according to their location. Now I will be looking on average rating of each cluster and give my suggestion on where and what to open at certain location from some analytics of data. "
   ]
  },
  {
   "cell_type": "markdown",
   "metadata": {},
   "source": [
    "**Data**"
   ]
  },
  {
   "cell_type": "markdown",
   "metadata": {},
   "source": [
    "For this project I will use the following data :\n",
    "\n",
    "1)New York City data that contains list Boroughs, Neighborhoods along with their latitude and longitude. Data source : https://cocl.us/new_york_dataset\n",
    "\n",
    "2)Food Venue in the neighborhood of Newyork from foursquare API"
   ]
  },
  {
   "cell_type": "markdown",
   "metadata": {},
   "source": [
    "**Thank You**"
   ]
  },
  {
   "cell_type": "code",
   "execution_count": null,
   "metadata": {},
   "outputs": [],
   "source": []
  }
 ],
 "metadata": {
  "kernelspec": {
   "display_name": "Python 3",
   "language": "python",
   "name": "python3"
  },
  "language_info": {
   "codemirror_mode": {
    "name": "ipython",
    "version": 3
   },
   "file_extension": ".py",
   "mimetype": "text/x-python",
   "name": "python",
   "nbconvert_exporter": "python",
   "pygments_lexer": "ipython3",
   "version": "3.7.1"
  }
 },
 "nbformat": 4,
 "nbformat_minor": 2
}
