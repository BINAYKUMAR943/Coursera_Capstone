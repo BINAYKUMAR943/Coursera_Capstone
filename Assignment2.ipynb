{
 "cells": [
  {
   "cell_type": "markdown",
   "metadata": {},
   "source": [
    "***Hi this notebook is for Datascience Capstone Project***\n",
    "\n",
    "\n"
   ]
  },
  {
   "cell_type": "code",
   "execution_count": 5,
   "metadata": {
    "scrolled": true
   },
   "outputs": [
    {
     "name": "stdout",
     "output_type": "stream",
     "text": [
      "Hello Capstone Project Course!\n"
     ]
    }
   ],
   "source": [
    "import  pandas as pd\n",
    "import numpy as np\n",
    "print(\"Hello Capstone Project Course!\")\n"
   ]
  },
  {
   "cell_type": "markdown",
   "metadata": {},
   "source": [
    "**After Assignment 1 let us use this notebook for assignment 2**"
   ]
  },
  {
   "cell_type": "code",
   "execution_count": 3,
   "metadata": {},
   "outputs": [],
   "source": [
    "from bs4 import BeautifulSoup"
   ]
  },
  {
   "cell_type": "code",
   "execution_count": 44,
   "metadata": {},
   "outputs": [],
   "source": [
    "import requests\n",
    "import csv"
   ]
  },
  {
   "cell_type": "code",
   "execution_count": 87,
   "metadata": {},
   "outputs": [],
   "source": [
    "#source= requests.get('https://en.wikipedia.org//wiki//List_of_postal_codes_of_Canada:_M').text\n",
    "\n",
    "with open('C:\\\\Users\\\\binay\\\\Desktop\\\\IBM Data Science Professional\\\\List of postal codes of Canada_ M - Wikipedia.html',encoding=\"utf-8\") as html_file:\n",
    "    #C:\\\\Users\\\\binay\\\\Desktop\\\\IBM Data Science Professional\\\\List of postal codes of Canada_ M - Wikipedia.html\n",
    "    soup=BeautifulSoup(html_file,'lxml')\n",
    "#print(soup.prettify())   \n",
    "\n",
    "\n",
    "\n",
    "table=soup.find('table',class_=\"wikitable sortable jquery-tablesorter\")\n",
    "csv_file=open('C:\\\\Users\\\\binay\\\\Desktop\\\\IBM Data Science Professional\\\\Assignment2- Data Science Capstone\\\\Torronto neighborhood table.csv','w')\n",
    "csv_writer=csv.writer(csv_file)\n",
    "csv_writer.writerow(['PostalCode','Borough','Neighborhood'])\n",
    "#print(table.find_all('td'))\n",
    "i=1\n",
    "for td in table.find_all('td'):\n",
    "    k=i%3\n",
    "    if k==1:\n",
    "        \n",
    "        postalcode=td.text\n",
    "        #print(postalcode)\n",
    "    elif k==2:\n",
    "        Borough=td.text\n",
    "        #print(Borough)\n",
    "    \n",
    "    if k==0:\n",
    "        Neighborhood=td.text.strip()\n",
    "        #print(Neighborhood)\n",
    "        #if(postalcode!=\"\" or Borough!=\"\"or Neighborhood!=\"\"):\n",
    "        csv_writer.writerow([postalcode,Borough,Neighborhood.strip()])\n",
    "    i=i+1\n",
    "csv_file.close()\n",
    "    "
   ]
  },
  {
   "cell_type": "code",
   "execution_count": 88,
   "metadata": {},
   "outputs": [],
   "source": [
    "import pandas as pd\n"
   ]
  },
  {
   "cell_type": "code",
   "execution_count": 89,
   "metadata": {},
   "outputs": [
    {
     "data": {
      "text/html": [
       "<div>\n",
       "<style scoped>\n",
       "    .dataframe tbody tr th:only-of-type {\n",
       "        vertical-align: middle;\n",
       "    }\n",
       "\n",
       "    .dataframe tbody tr th {\n",
       "        vertical-align: top;\n",
       "    }\n",
       "\n",
       "    .dataframe thead th {\n",
       "        text-align: right;\n",
       "    }\n",
       "</style>\n",
       "<table border=\"1\" class=\"dataframe\">\n",
       "  <thead>\n",
       "    <tr style=\"text-align: right;\">\n",
       "      <th></th>\n",
       "      <th>PostalCode</th>\n",
       "      <th>Borough</th>\n",
       "      <th>Neighborhood</th>\n",
       "    </tr>\n",
       "  </thead>\n",
       "  <tbody>\n",
       "    <tr>\n",
       "      <th>0</th>\n",
       "      <td>M1A</td>\n",
       "      <td>Not assigned</td>\n",
       "      <td>Not assigned</td>\n",
       "    </tr>\n",
       "    <tr>\n",
       "      <th>1</th>\n",
       "      <td>M2A</td>\n",
       "      <td>Not assigned</td>\n",
       "      <td>Not assigned</td>\n",
       "    </tr>\n",
       "    <tr>\n",
       "      <th>2</th>\n",
       "      <td>M3A</td>\n",
       "      <td>North York</td>\n",
       "      <td>Parkwoods</td>\n",
       "    </tr>\n",
       "    <tr>\n",
       "      <th>3</th>\n",
       "      <td>M4A</td>\n",
       "      <td>North York</td>\n",
       "      <td>Victoria Village</td>\n",
       "    </tr>\n",
       "    <tr>\n",
       "      <th>4</th>\n",
       "      <td>M5A</td>\n",
       "      <td>Downtown Toronto</td>\n",
       "      <td>Harbourfront</td>\n",
       "    </tr>\n",
       "  </tbody>\n",
       "</table>\n",
       "</div>"
      ],
      "text/plain": [
       "  PostalCode           Borough      Neighborhood\n",
       "0        M1A      Not assigned      Not assigned\n",
       "1        M2A      Not assigned      Not assigned\n",
       "2        M3A        North York         Parkwoods\n",
       "3        M4A        North York  Victoria Village\n",
       "4        M5A  Downtown Toronto      Harbourfront"
      ]
     },
     "execution_count": 89,
     "metadata": {},
     "output_type": "execute_result"
    }
   ],
   "source": [
    "df=pd.read_csv('C:\\\\Users\\\\binay\\\\Desktop\\\\IBM Data Science Professional\\\\Assignment2- Data Science Capstone\\\\Torronto neighborhood table.csv')\n",
    "df.head(5)"
   ]
  },
  {
   "cell_type": "code",
   "execution_count": null,
   "metadata": {},
   "outputs": [],
   "source": []
  }
 ],
 "metadata": {
  "kernelspec": {
   "display_name": "Python 3",
   "language": "python",
   "name": "python3"
  },
  "language_info": {
   "codemirror_mode": {
    "name": "ipython",
    "version": 3
   },
   "file_extension": ".py",
   "mimetype": "text/x-python",
   "name": "python",
   "nbconvert_exporter": "python",
   "pygments_lexer": "ipython3",
   "version": "3.7.1"
  }
 },
 "nbformat": 4,
 "nbformat_minor": 2
}
