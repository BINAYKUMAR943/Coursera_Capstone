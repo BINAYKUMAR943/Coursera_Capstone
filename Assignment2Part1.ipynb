{
 "cells": [
  {
   "cell_type": "markdown",
   "metadata": {},
   "source": [
    "#Scraping Torronto Neighborhood data from wikepedia Page#"
   ]
  },
  {
   "cell_type": "markdown",
   "metadata": {},
   "source": [
    "**Importing required packages**"
   ]
  },
  {
   "cell_type": "code",
   "execution_count": 62,
   "metadata": {},
   "outputs": [],
   "source": [
    "from bs4 import BeautifulSoup\n",
    "import requests\n",
    "import csv\n",
    "import pandas as pd"
   ]
  },
  {
   "cell_type": "markdown",
   "metadata": {},
   "source": [
    "**I have saved html page in my local and proceeded. But we can also access it directly by pasing url to get function of requests object.**\n",
    "**Steps for scapring and saving it to csv file**\n",
    "1) opened html file\n",
    "2) using lxml parser, parsed it in soup object\n",
    "3) Now with soup object we found, class of the table uniquely and written it in csv file. "
   ]
  },
  {
   "cell_type": "code",
   "execution_count": 63,
   "metadata": {},
   "outputs": [],
   "source": [
    "#source= requests.get('https://en.wikipedia.org//wiki//List_of_postal_codes_of_Canada:_M').text\n",
    "\n",
    "with open('C:\\\\Users\\\\binay\\\\Desktop\\\\IBM Data Science Professional\\\\List of postal codes of Canada_ M - Wikipedia.html',encoding=\"utf-8\") as html_file:\n",
    "    soup=BeautifulSoup(html_file,'lxml')  \n",
    "table=soup.find('table',class_=\"wikitable sortable jquery-tablesorter\")\n",
    "csv_file=open('C:\\\\Users\\\\binay\\\\Desktop\\\\IBM Data Science Professional\\\\Assignment2- Data Science Capstone\\\\Torronto neighborhood table.csv','w')\n",
    "csv_writer=csv.writer(csv_file)\n",
    "csv_writer.writerow(['PostalCode','Borough','Neighborhood'])\n",
    "# code for writing in csv file and I saved it in my local\n",
    "i=1\n",
    "for td in table.find_all('td'):\n",
    "    k=i%3\n",
    "    if k==1:\n",
    "        \n",
    "        postalcode=td.text\n",
    "    elif k==2:\n",
    "        Borough=td.text\n",
    "    if k==0:\n",
    "        Neighborhood=td.text.strip()\n",
    "        csv_writer.writerow([postalcode,Borough,Neighborhood.strip()])\n",
    "    i=i+1\n",
    "csv_file.close()\n",
    "    "
   ]
  },
  {
   "cell_type": "markdown",
   "metadata": {},
   "source": [
    "**Reading CSV file and preperaing it as asked**"
   ]
  },
  {
   "cell_type": "code",
   "execution_count": 74,
   "metadata": {},
   "outputs": [
    {
     "data": {
      "text/html": [
       "<div>\n",
       "<style scoped>\n",
       "    .dataframe tbody tr th:only-of-type {\n",
       "        vertical-align: middle;\n",
       "    }\n",
       "\n",
       "    .dataframe tbody tr th {\n",
       "        vertical-align: top;\n",
       "    }\n",
       "\n",
       "    .dataframe thead th {\n",
       "        text-align: right;\n",
       "    }\n",
       "</style>\n",
       "<table border=\"1\" class=\"dataframe\">\n",
       "  <thead>\n",
       "    <tr style=\"text-align: right;\">\n",
       "      <th></th>\n",
       "      <th>PostalCode</th>\n",
       "      <th>Borough</th>\n",
       "      <th>Neighborhood</th>\n",
       "    </tr>\n",
       "  </thead>\n",
       "  <tbody>\n",
       "    <tr>\n",
       "      <th>0</th>\n",
       "      <td>M1B</td>\n",
       "      <td>Scarborough</td>\n",
       "      <td>[Rouge, Malvern]</td>\n",
       "    </tr>\n",
       "    <tr>\n",
       "      <th>1</th>\n",
       "      <td>M1C</td>\n",
       "      <td>Scarborough</td>\n",
       "      <td>[Highland Creek, Rouge Hill, Port Union]</td>\n",
       "    </tr>\n",
       "    <tr>\n",
       "      <th>2</th>\n",
       "      <td>M1E</td>\n",
       "      <td>Scarborough</td>\n",
       "      <td>[Guildwood, Morningside, West Hill]</td>\n",
       "    </tr>\n",
       "    <tr>\n",
       "      <th>3</th>\n",
       "      <td>M1G</td>\n",
       "      <td>Scarborough</td>\n",
       "      <td>[Woburn]</td>\n",
       "    </tr>\n",
       "    <tr>\n",
       "      <th>4</th>\n",
       "      <td>M1H</td>\n",
       "      <td>Scarborough</td>\n",
       "      <td>[Cedarbrae]</td>\n",
       "    </tr>\n",
       "    <tr>\n",
       "      <th>5</th>\n",
       "      <td>M1J</td>\n",
       "      <td>Scarborough</td>\n",
       "      <td>[Scarborough Village]</td>\n",
       "    </tr>\n",
       "    <tr>\n",
       "      <th>6</th>\n",
       "      <td>M1K</td>\n",
       "      <td>Scarborough</td>\n",
       "      <td>[East Birchmount Park, Ionview, Kennedy Park]</td>\n",
       "    </tr>\n",
       "    <tr>\n",
       "      <th>7</th>\n",
       "      <td>M1L</td>\n",
       "      <td>Scarborough</td>\n",
       "      <td>[Clairlea, Golden Mile, Oakridge]</td>\n",
       "    </tr>\n",
       "    <tr>\n",
       "      <th>8</th>\n",
       "      <td>M1M</td>\n",
       "      <td>Scarborough</td>\n",
       "      <td>[Cliffcrest, Cliffside, Scarborough Village West]</td>\n",
       "    </tr>\n",
       "    <tr>\n",
       "      <th>9</th>\n",
       "      <td>M1N</td>\n",
       "      <td>Scarborough</td>\n",
       "      <td>[Birch Cliff, Cliffside West]</td>\n",
       "    </tr>\n",
       "  </tbody>\n",
       "</table>\n",
       "</div>"
      ],
      "text/plain": [
       "  PostalCode      Borough                                       Neighborhood\n",
       "0        M1B  Scarborough                                   [Rouge, Malvern]\n",
       "1        M1C  Scarborough           [Highland Creek, Rouge Hill, Port Union]\n",
       "2        M1E  Scarborough                [Guildwood, Morningside, West Hill]\n",
       "3        M1G  Scarborough                                           [Woburn]\n",
       "4        M1H  Scarborough                                        [Cedarbrae]\n",
       "5        M1J  Scarborough                              [Scarborough Village]\n",
       "6        M1K  Scarborough      [East Birchmount Park, Ionview, Kennedy Park]\n",
       "7        M1L  Scarborough                  [Clairlea, Golden Mile, Oakridge]\n",
       "8        M1M  Scarborough  [Cliffcrest, Cliffside, Scarborough Village West]\n",
       "9        M1N  Scarborough                      [Birch Cliff, Cliffside West]"
      ]
     },
     "execution_count": 74,
     "metadata": {},
     "output_type": "execute_result"
    }
   ],
   "source": [
    "df=pd.read_csv('C:\\\\Users\\\\binay\\\\Desktop\\\\IBM Data Science Professional\\\\Assignment2- Data Science Capstone\\\\Torronto neighborhood table.csv')\n",
    "df.head(10)\n",
    "#Dropping all Borough with Not assigned value\n",
    "df.drop(df[df['Borough']==\"Not assigned\"].index,inplace=True)\n",
    "\n",
    "#Replacing Neighborhood value with Borough value when df['Neighborhood']='Not assigned'\n",
    "i=0\n",
    "for borough,neighborhood in zip(df['Borough'],df['Neighborhood']):\n",
    "    \n",
    "    if neighborhood==\"Not assigned\":\n",
    "        df.iloc[i,2]=df.iloc[i,1]\n",
    "    i=i+1   \n",
    "\n",
    "clm=['PostalCode','Borough','Neighborhood']\n",
    "l=[]\n",
    "gp=df.groupby(['PostalCode','Borough'])\n",
    "for k,group in gp:\n",
    "    nl=group['Neighborhood'].tolist()\n",
    "    l.append([k[0],k[1],nl])\n",
    "    \n",
    "modifiedDf=pd.DataFrame(l,columns=clm)\n",
    "modifiedDf.head(10)    "
   ]
  },
  {
   "cell_type": "markdown",
   "metadata": {},
   "source": [
    "**Now Shape of Dataframe**"
   ]
  },
  {
   "cell_type": "code",
   "execution_count": 76,
   "metadata": {},
   "outputs": [
    {
     "data": {
      "text/plain": [
       "(103, 3)"
      ]
     },
     "execution_count": 76,
     "metadata": {},
     "output_type": "execute_result"
    }
   ],
   "source": [
    "modifiedDf.shape"
   ]
  },
  {
   "cell_type": "code",
   "execution_count": null,
   "metadata": {},
   "outputs": [],
   "source": []
  }
 ],
 "metadata": {
  "kernelspec": {
   "display_name": "Python 3",
   "language": "python",
   "name": "python3"
  },
  "language_info": {
   "codemirror_mode": {
    "name": "ipython",
    "version": 3
   },
   "file_extension": ".py",
   "mimetype": "text/x-python",
   "name": "python",
   "nbconvert_exporter": "python",
   "pygments_lexer": "ipython3",
   "version": "3.7.1"
  }
 },
 "nbformat": 4,
 "nbformat_minor": 2
}
