{
 "cells": [
  {
   "cell_type": "markdown",
   "metadata": {},
   "source": [
    "# Blog- Best location to open a restaurant"
   ]
  },
  {
   "cell_type": "markdown",
   "metadata": {},
   "source": [
    "The restaurant industry is one of the most competitive sectors in the world. Not only we as species need to eat and drink to survive but also communal dinning is an experince that we have been cherishing for centuries. And we love to dine out when we can, there is a great deal of demand for restaurant in village, town and cities across the planet. With this great demand there is a great competition also. Studies from \"The Perry Group\" and \"The Restaurant Brokers\" suggest that 90% of restaurants that are independently owned close within one year of opening. Moreover, 70% of restaurants that manage to survive for 12 months close their doors within the next three to five years. So question is how to excel in such competitive environment? Let see the possible solution.\n",
    "Why about 90 percent of restaurant closes within a year.To understand the solution we first need to understand the root cause of the problem. The possible answer are many like bad location, lack of ambience, menu, bad pricing, bad service etc.Out of these reasons first problem is location as before opening a restaurant this is the thing you decide. The place where you want to open restaurant and after that other factors comes in. So part of solution in which I am concentrating is location selection. I will be analyzing all the restaurant of a city( for my reference it is a borough of Newyork) and will be clustering them according to their location. Now I will be looking on average rating of each cluster and give my suggestion on where and what to open at certain location from some analytics of data.\n",
    "\n",
    "Why Are Restaurant Analytics Important?\n",
    "Business analytics for restaurants is integral to understanding the inner workings of your business but and being aware of how you can improve it to foster a sustainable level of success that will set you apart from the competition.\n",
    "\n",
    "By working with relevant key performance indicators (KPIs) and data dashboards, you’ll be able to track, monitor, and measure your most valuable business insights in a way that is clear, concise, and digestible, pulling from past, present, and predictive data. This will enable sustainable KPI management processes that will ultimately increase productivity and save money.\n",
    "\n",
    "Restaurant data analytics will help you get to the heart of the issue and understand the whole truth about your business. While we’re on the subject, let’s look at how business analytics for restaurants will help you make positive changes that get real results.\n",
    "\n",
    "In summary, restaurant-based data analytics is crucial to the success of your restaurant because they enable you to:\n",
    "\n",
    "Organize your data and omit any metrics that are relevant to your goals.\n",
    "Transform your most valuable data into actionable insights.\n",
    "Monitor, measure and track your performance with interactive KPIs.\n",
    "Spot emerging trends that will set you apart from the competition.\n",
    "Make your business more efficient, more intelligent and more profitable than you ever thought possible.\n",
    "\n",
    "For this project I used the following data :\n",
    "\n",
    "1)New York City data that contains list Boroughs, Neighborhoods along with their latitude and longitude. Data source : https://cocl.us/new_york_dataset\n",
    "\n",
    "2)Food Venue in the neighborhood of Newyork from foursquare API\n",
    "\n",
    "Thank You\n",
    "\n",
    "\n",
    "\n"
   ]
  },
  {
   "cell_type": "code",
   "execution_count": null,
   "metadata": {},
   "outputs": [],
   "source": []
  }
 ],
 "metadata": {
  "kernelspec": {
   "display_name": "Python 3",
   "language": "python",
   "name": "python3"
  },
  "language_info": {
   "codemirror_mode": {
    "name": "ipython",
    "version": 3
   },
   "file_extension": ".py",
   "mimetype": "text/x-python",
   "name": "python",
   "nbconvert_exporter": "python",
   "pygments_lexer": "ipython3",
   "version": "3.7.1"
  }
 },
 "nbformat": 4,
 "nbformat_minor": 2
}
