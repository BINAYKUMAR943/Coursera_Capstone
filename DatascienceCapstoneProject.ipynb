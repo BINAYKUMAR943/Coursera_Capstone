{
 "cells": [
  {
   "cell_type": "markdown",
   "metadata": {},
   "source": [
    "# Datascience Capstone"
   ]
  },
  {
   "cell_type": "markdown",
   "metadata": {},
   "source": [
    "**Problem Statement**"
   ]
  },
  {
   "cell_type": "markdown",
   "metadata": {},
   "source": [
    "Hi this is Binay Kumar. I am a Software Engineer at Cognizant and a passionate Datascience Practioner.Now, without taking much of your time I am going to discuss the problem that I want to point out and their possible solutions. So, In metro city like Kolkata, Bangalore, Mumbai etc. we can easily notice that there are lot of good running restaurants. But there are also many which are not doing well and going to shutdown today or tommorow. You would be thinking these restaurants might not have good quality of food, services, affordable price in the menu or ambience which are letting it to shutdown.True for some cases but not always.One main reason behind it is the location. There are many restaurants having all good features like good food, services and all but due to its bad location they are shutting down. So, what I am trying to convey is, with all other factors one should must think about location where he/she is opening a restaurant. But how how to know the perfect location?. Datascience can help in this. For example, if someone wants to open a restaurant in kolkata then data science can help them to say the perfect location for their restaurant with good amount of analysis using location data and other factors. So using location data we can analyze different restaurant in the city of Kolkata and can form cluster acording to their similatities. After that we can find average rating of each cluster and can suggest the right place by keeping price and all in the mind.\n"
   ]
  },
  {
   "cell_type": "code",
   "execution_count": null,
   "metadata": {},
   "outputs": [],
   "source": []
  }
 ],
 "metadata": {
  "kernelspec": {
   "display_name": "Python 3",
   "language": "python",
   "name": "python3"
  },
  "language_info": {
   "codemirror_mode": {
    "name": "ipython",
    "version": 3
   },
   "file_extension": ".py",
   "mimetype": "text/x-python",
   "name": "python",
   "nbconvert_exporter": "python",
   "pygments_lexer": "ipython3",
   "version": "3.7.1"
  }
 },
 "nbformat": 4,
 "nbformat_minor": 2
}
